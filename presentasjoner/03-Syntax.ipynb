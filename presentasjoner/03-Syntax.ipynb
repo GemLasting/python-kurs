{
 "cells": [
  {
   "cell_type": "markdown",
   "metadata": {
    "slideshow": {
     "slide_type": "slide"
    }
   },
   "source": [
    "# 3 - Syntax"
   ]
  },
  {
   "cell_type": "markdown",
   "metadata": {
    "slideshow": {
     "slide_type": "slide"
    }
   },
   "source": [
    "## 3.1 Kommentarer\n",
    "- `#` brukes for å kommentere ut kode. \n",
    "- Kommentarer blir ignorert når programmet kjøres.\n",
    "- Lurt å legge til kommentarer underveis når man programmerer."
   ]
  },
  {
   "cell_type": "code",
   "execution_count": null,
   "metadata": {
    "slideshow": {
     "slide_type": "fragment"
    }
   },
   "outputs": [],
   "source": [
    "print(1 + 1 * 8 - 3) # Kommentar etter en kodelinje"
   ]
  },
  {
   "cell_type": "code",
   "execution_count": null,
   "metadata": {
    "slideshow": {
     "slide_type": "fragment"
    }
   },
   "outputs": [],
   "source": [
    "# Kommentar før en kodelinje\n",
    "print(2 + 6 * 8 - 3)"
   ]
  },
  {
   "cell_type": "code",
   "execution_count": null,
   "metadata": {
    "slideshow": {
     "slide_type": "fragment"
    }
   },
   "outputs": [],
   "source": [
    "# Kommentert ut kode vil ikke bli eksekvert\n",
    "# 2 + 6 * 8 - 3"
   ]
  },
  {
   "cell_type": "markdown",
   "metadata": {
    "slideshow": {
     "slide_type": "subslide"
    }
   },
   "source": [
    "- `\"\"\"` kan brukes som en slags kommentar over flere linjer.\n",
    "- Er egentlig ikke en kommentar, men en multilinjestreng.\n",
    "- Brukes gjerne for å \n",
    "    - kommentere ut flere linjer med kode man ikke vil kjøre for øyeblikket.\n",
    "    - lage strenger som består av flere linjer hvis man gir strengen til en variabel.\n",
    "- Fungerer ikke som en kommentar i Jupyter hvis multilinjestrengen er til sist i en boks, men vil fungere i scripts."
   ]
  },
  {
   "cell_type": "code",
   "execution_count": null,
   "metadata": {
    "slideshow": {
     "slide_type": "fragment"
    }
   },
   "outputs": [],
   "source": [
    "# for at dette skal fungere som en kommentar i scripts, må man bruke '\"\"\"' uten å opprette noen variabel eller printe ut strengen\n",
    "\"\"\"\n",
    "\"Kommentar\"\n",
    "over\n",
    "flere\n",
    "linjer\n",
    "\"\"\"\n",
    "print('Hello')"
   ]
  },
  {
   "cell_type": "code",
   "execution_count": null,
   "metadata": {
    "slideshow": {
     "slide_type": "subslide"
    }
   },
   "outputs": [],
   "source": [
    "# Kommentert ut kode over flere linjer\n",
    "print(1 + 2 + 4)\n",
    "print(4 + 1 + 7)\n",
    "\"\"\"\n",
    "print('Test')\n",
    "print('av kommentar')\n",
    "\"\"\"\n",
    "print(1 + 2 + 7)"
   ]
  },
  {
   "cell_type": "markdown",
   "metadata": {
    "slideshow": {
     "slide_type": "slide"
    }
   },
   "source": [
    "## 3.2 Whitespace og indentering\n",
    "- Indentering avgjør hvilket scope koden hører til.\n",
    "- Et scope er et område med kode som skal bli kjørt.\n",
    "- Eksempler på scope er\n",
    "    - Inni en funksjon\n",
    "    - Inni en if-test\n",
    "    - Inni en løkke\n",
    "- Her er et eksempel på ulike scopes basert på indentering. Ikke bry dere om syntaksen for funksjoner og kontrollflyt nå, det skal vi gå gjennom etterhvert"
   ]
  },
  {
   "cell_type": "code",
   "execution_count": null,
   "metadata": {
    "slideshow": {
     "slide_type": "subslide"
    }
   },
   "outputs": [],
   "source": [
    "liste = ['a', 'b', 'c']\n",
    "\n",
    "def funksjon():\n",
    "    print(\"Scope 1\")\n",
    "    \n",
    "    if True:\n",
    "        print(\"Scope 2\")\n",
    "        \n",
    "        for bokstav in liste:\n",
    "            print(\"Scope 3:\", bokstav)\n",
    "        \n",
    "        print(\"Scope 2\")\n",
    "    \n",
    "    else:\n",
    "        print(\"Scope 4\")\n",
    "    \n",
    "    print(liste)\n",
    "\n",
    "print(\"Scope 0\")\n",
    "funksjon()"
   ]
  }
 ],
 "metadata": {
  "celltoolbar": "Slideshow",
  "kernelspec": {
   "display_name": "Python 3 (ipykernel)",
   "language": "python",
   "name": "python3"
  },
  "language_info": {
   "codemirror_mode": {
    "name": "ipython",
    "version": 3
   },
   "file_extension": ".py",
   "mimetype": "text/x-python",
   "name": "python",
   "nbconvert_exporter": "python",
   "pygments_lexer": "ipython3",
   "version": "3.10.7"
  },
  "livereveal": {
   "height": 1200,
   "width": 1600
  },
  "vscode": {
   "interpreter": {
    "hash": "916dbcbb3f70747c44a77c7bcd40155683ae19c65e1c03b4aa3499c5328201f1"
   }
  }
 },
 "nbformat": 4,
 "nbformat_minor": 4
}
