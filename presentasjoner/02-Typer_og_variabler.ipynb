{
 "cells": [
  {
   "cell_type": "markdown",
   "metadata": {
    "slideshow": {
     "slide_type": "slide"
    }
   },
   "source": [
    "# 2 - Typer og variabler"
   ]
  },
  {
   "cell_type": "markdown",
   "metadata": {
    "slideshow": {
     "slide_type": "slide"
    }
   },
   "source": [
    "## 2.1 Variabler i Python\n",
    "- Ingen typedeklarasjon\n",
    "- Må initialiseres eksplisitt (må gis en verdi)\n",
    "- Resultat: typen på en variabel settes ut fra verdien den gis\n",
    "- Typeteori: strong, dynamic typed language"
   ]
  },
  {
   "cell_type": "code",
   "execution_count": null,
   "metadata": {
    "slideshow": {
     "slide_type": "fragment"
    }
   },
   "outputs": [],
   "source": [
    "år = 2020\n",
    "print(type(år))\n",
    "\n",
    "høyde = 2.1\n",
    "print(type(høyde))\n",
    "\n",
    "navn = \"Ola Normann\"\n",
    "print(type(navn))\n",
    "\n",
    "ingenting = None\n",
    "print(type(ingenting))"
   ]
  },
  {
   "cell_type": "markdown",
   "metadata": {
    "slideshow": {
     "slide_type": "slide"
    }
   },
   "source": [
    "- Og: variabler kan endre type"
   ]
  },
  {
   "cell_type": "code",
   "execution_count": null,
   "metadata": {
    "slideshow": {
     "slide_type": "fragment"
    }
   },
   "outputs": [],
   "source": [
    "alder = 20\n",
    "print(type(alder))\n",
    "\n",
    "alder = 2.1\n",
    "print(type(alder))\n"
   ]
  },
  {
   "cell_type": "markdown",
   "metadata": {
    "slideshow": {
     "slide_type": "slide"
    }
   },
   "source": [
    "## 2.2 Minneallokering i Python\n",
    "- C: minne allokeres på stacken ved compiletime, eller i heap under kjøring\n",
    "- Python: alle variabler allokeres dynamisk i heap under kjøring"
   ]
  },
  {
   "cell_type": "markdown",
   "metadata": {
    "slideshow": {
     "slide_type": "slide"
    }
   },
   "source": [
    "## 2.3 Matematiske operatorer"
   ]
  },
  {
   "cell_type": "code",
   "execution_count": null,
   "metadata": {
    "slideshow": {
     "slide_type": "fragment"
    }
   },
   "outputs": [],
   "source": [
    "a = 2\n",
    "b = 5\n",
    "\n",
    "print(\"a + b   =\", a + b)\n",
    "print(\"b - a   =\", b - a)\n",
    "print(\"a * b   =\", a * b)\n",
    "print(\"b / a   =\", b / a)\n",
    "print(\"b // a  =\", b // a)\n",
    "print(\"a ^ b   =\", a**b)\n",
    "print(\"a mod b =\", b % a)\n",
    "print(\"b mod a =\", a % b) "
   ]
  },
  {
   "cell_type": "markdown",
   "metadata": {
    "slideshow": {
     "slide_type": "slide"
    }
   },
   "source": [
    "## 2.4 Oppgaver: Variabler og matematiske metoder\n",
    "- Opprett og bruk variabler, ikke skriv tall direkte i oppgavene\n",
    "- Finn svarene:\n",
    "    - 2 + 4 * 3\n",
    "    - 1 / 3\n",
    "    - 1 / 3 (rundet ned)\n",
    "    - 2^6 / 2 + 5 * 2\n",
    "    - 3^(132 % 9) * 2 - (6 * 20 + 1)"
   ]
  },
  {
   "cell_type": "markdown",
   "metadata": {
    "slideshow": {
     "slide_type": "slide"
    }
   },
   "source": [
    "## 2.5 Strenger\n",
    "- Unicode strings og binary strings\n",
    "- Python 2: binary strings som standard\n",
    "- Nytt i Python 3: unicode strings som standard"
   ]
  },
  {
   "cell_type": "code",
   "execution_count": null,
   "metadata": {
    "slideshow": {
     "slide_type": "fragment"
    }
   },
   "outputs": [],
   "source": [
    "print(\"Hello world!\")\n",
    "print(\"Hællø wårld!\")\n",
    "print(\"你好，世界\")\n",
    "print(\"مرحبا بالعالم\")\n",
    "print(\"😎\")"
   ]
  },
  {
   "cell_type": "markdown",
   "metadata": {
    "slideshow": {
     "slide_type": "fragment"
    }
   },
   "source": [
    "\n",
    "\n",
    "```bash\n",
    "        |  2.x                     |  3.x\n",
    "--------+--------------------------+-----------------------\n",
    "Bytes   |  'abc' <type 'str'>      |  b'abc' <type 'bytes'>\n",
    "Unicode | u'abc' <type 'unicode'>  |   'abc' <type 'str'>\n",
    "```"
   ]
  },
  {
   "cell_type": "markdown",
   "metadata": {
    "slideshow": {
     "slide_type": "subslide"
    }
   },
   "source": [
    "* Strenger kan opprettes på tre måter:"
   ]
  },
  {
   "cell_type": "code",
   "execution_count": 10,
   "metadata": {
    "slideshow": {
     "slide_type": "fragment"
    }
   },
   "outputs": [
    {
     "data": {
      "text/plain": [
       "True"
      ]
     },
     "execution_count": 10,
     "metadata": {},
     "output_type": "execute_result"
    }
   ],
   "source": [
    "a = \"hello\"\n",
    "b = 'hello'\n",
    "c = \"\"\"hello\"\"\"\n",
    "\n",
    "a == b == c"
   ]
  },
  {
   "cell_type": "markdown",
   "metadata": {
    "slideshow": {
     "slide_type": "subslide"
    }
   },
   "source": [
    "* Noen små forskjeller:"
   ]
  },
  {
   "cell_type": "code",
   "execution_count": 11,
   "metadata": {
    "slideshow": {
     "slide_type": "fragment"
    }
   },
   "outputs": [],
   "source": [
    "a = \"Strenger mellom dobbeltfnutter kan ha ' i seg\"\n",
    "b = 'Strenger mellom enkeltfnutter kan ha \" i seg'\n",
    "c = \"\"\"\n",
    "Strenger mellom tre dobbeltfnutter kan ha både \" og ' i seg,\n",
    "og gå over flere linjer :)\n",
    "\"\"\""
   ]
  },
  {
   "cell_type": "markdown",
   "metadata": {
    "slideshow": {
     "slide_type": "subslide"
    }
   },
   "source": [
    "Konkatinering:"
   ]
  },
  {
   "cell_type": "code",
   "execution_count": null,
   "metadata": {
    "slideshow": {
     "slide_type": "fragment"
    }
   },
   "outputs": [],
   "source": [
    "first = \"Hello\"\n",
    "space = ' '\n",
    "last = 'World!'\n",
    "\n",
    "print(first + space + last)\n",
    "print(last + space + space + space + first)"
   ]
  },
  {
   "cell_type": "markdown",
   "metadata": {
    "slideshow": {
     "slide_type": "subslide"
    }
   },
   "source": [
    "Konvertering:"
   ]
  },
  {
   "cell_type": "code",
   "execution_count": null,
   "metadata": {
    "slideshow": {
     "slide_type": "fragment"
    }
   },
   "outputs": [],
   "source": [
    "a = 5\n",
    "print(\"Jeg har \" + str(a) + \" hatter!\")\n",
    "\n",
    "b = \"2\"\n",
    "c = \"3\"\n",
    "svar = int(b) + int(c)\n",
    "print(b + \" + \" + c + \" = \" + str(svar))"
   ]
  },
  {
   "cell_type": "markdown",
   "metadata": {
    "slideshow": {
     "slide_type": "subslide"
    }
   },
   "source": [
    "Strengformatering:\n",
    "* Flere metoder for å kombinere og bygge strenger:"
   ]
  },
  {
   "cell_type": "code",
   "execution_count": null,
   "metadata": {
    "slideshow": {
     "slide_type": "fragment"
    }
   },
   "outputs": [],
   "source": [
    "'Jeg er %d år gammel, men er fortsatt %s' % (60, 'ikke gammel')"
   ]
  },
  {
   "cell_type": "code",
   "execution_count": null,
   "metadata": {
    "slideshow": {
     "slide_type": "fragment"
    }
   },
   "outputs": [],
   "source": [
    "'Jeg er {0} år gammel, men er fortsatt {1}'.format(100, 'ung')"
   ]
  },
  {
   "cell_type": "code",
   "execution_count": null,
   "metadata": {
    "slideshow": {
     "slide_type": "fragment"
    }
   },
   "outputs": [],
   "source": [
    "'Jeg har {antall} søstre'.format(antall=5)"
   ]
  },
  {
   "cell_type": "markdown",
   "metadata": {
    "slideshow": {
     "slide_type": "subslide"
    }
   },
   "source": [
    "Unikt for python 3.6+: f-strings"
   ]
  },
  {
   "cell_type": "code",
   "execution_count": null,
   "metadata": {
    "slideshow": {
     "slide_type": "fragment"
    }
   },
   "outputs": [],
   "source": [
    "var = 25\n",
    "print(f\"Jeg er {var*5} år gammel\")\n",
    "\n",
    "print(f\"{var=}\")"
   ]
  },
  {
   "cell_type": "markdown",
   "metadata": {
    "slideshow": {
     "slide_type": "slide"
    }
   },
   "source": [
    "## 2.6 print() og input()"
   ]
  },
  {
   "cell_type": "markdown",
   "metadata": {
    "slideshow": {
     "slide_type": "subslide"
    }
   },
   "source": [
    "* print() funksjonen brukes for å skrive ut ting\n",
    "* Legger til ett linjeskift på slutten\n",
    "* Uten argumenter, printer den bare en tom linje\n",
    "* Kan ta flere argumenter, av forskjellige typer"
   ]
  },
  {
   "cell_type": "code",
   "execution_count": null,
   "metadata": {
    "slideshow": {
     "slide_type": "fragment"
    }
   },
   "outputs": [],
   "source": [
    "print(\"Hello World!\")\n",
    "print()\n",
    "\n",
    "a = 2\n",
    "b = 3\n",
    "print(a, \"+\", b, \"=\", a + b)"
   ]
  },
  {
   "cell_type": "markdown",
   "metadata": {
    "slideshow": {
     "slide_type": "subslide"
    }
   },
   "source": [
    "* input() funksjonen brukes for å få informasjon fra brukeren\n",
    "* Tar en spørre-streng som argument, og returnerer en streng"
   ]
  },
  {
   "cell_type": "code",
   "execution_count": null,
   "metadata": {
    "slideshow": {
     "slide_type": "fragment"
    }
   },
   "outputs": [],
   "source": [
    "a = input(\"Hva heter du? \")\n",
    "print(\"Hei \" + a)\n",
    "input(\"Trykk enter for å fortsette\")"
   ]
  },
  {
   "cell_type": "markdown",
   "metadata": {
    "slideshow": {
     "slide_type": "slide"
    }
   },
   "source": [
    "## 2.7 Oppgaver: strenger"
   ]
  },
  {
   "cell_type": "markdown",
   "metadata": {
    "slideshow": {
     "slide_type": "fragment"
    }
   },
   "source": [
    "* Lag ett kort script som spør brukeren om navnet deres, og gir dem en hyggelig hilsen (med navnet i)\n",
    "* Legg til spørsmål om alder og favoritt-farge, og skriv ut dette også på en fin måte"
   ]
  },
  {
   "cell_type": "markdown",
   "metadata": {
    "slideshow": {
     "slide_type": "slide"
    }
   },
   "source": [
    "## 2.8 Lister og tupler"
   ]
  },
  {
   "cell_type": "markdown",
   "metadata": {
    "slideshow": {
     "slide_type": "fragment"
    }
   },
   "source": [
    "* Brukes for å holde verdier\n",
    "* Kan minne om arrays i c\n",
    " * Overlappende bruksområder\n",
    " * Men helt annen underliggende datastruktur\n",
    "* Dobbeltlinket-liste\n",
    "* Kan holde alle typer objekter\n",
    " * Og objekter av forskjellige typer i samme liste\n",
    " * Lister kan inneholde andre lister (nesting)\n",
    "* Tupler fungerer som lister, men kan ikke endres på etter opprettelse\n",
    "* Bruk len() for å få antallet elementer i en liste/tupel"
   ]
  },
  {
   "cell_type": "code",
   "execution_count": null,
   "metadata": {
    "slideshow": {
     "slide_type": "subslide"
    }
   },
   "outputs": [],
   "source": [
    "tom_liste = []\n",
    "l1 = [\"Noen\", \"ord\", \"i\", \"denne\", \"listen\"]\n",
    "l2 = [2, 5, 7]\n",
    "l3 = [\"streng\", 1337, 3.14]\n",
    "\n",
    "t1 = (1, 2, 3)\n",
    "t2 = (\"abc\", 42, 2.72)\n",
    "\n",
    "print(\"Lengden på l1:\", len(l1))\n",
    "print(\"Lengden på l2:\", len(l2))"
   ]
  },
  {
   "cell_type": "markdown",
   "metadata": {
    "slideshow": {
     "slide_type": "subslide"
    }
   },
   "source": [
    "* Elementer kan hentes ut fra lister og tupler\n",
    "* Slicing\n",
    "* Reversering\n",
    "* Sortering"
   ]
  },
  {
   "cell_type": "markdown",
   "metadata": {
    "slideshow": {
     "slide_type": "subslide"
    }
   },
   "source": [
    "Slicing:"
   ]
  },
  {
   "cell_type": "code",
   "execution_count": null,
   "metadata": {
    "slideshow": {
     "slide_type": "fragment"
    }
   },
   "outputs": [],
   "source": [
    "l = [\"Noen\", \"ord\", \"i\", \"denne\", \"listen\"]\n",
    "print(l[0], l[1], l[2], l[3], l[4])\n",
    "print(l[-1], l[-2], l[-3], l[-4], l[-5])\n",
    "\n",
    "print(l[0:2])\n",
    "print(l[:2]) #Snarvei\n",
    "print()\n",
    "\n",
    "print(l[2:5])\n",
    "print(l[2:]) #Snarvei\n",
    "print()\n",
    "\n",
    "print(l[0:5:2])\n",
    "print(l[::2]) #Snarvei\n",
    "print()\n",
    "\n",
    "print(l[::-1]) #Snarvei"
   ]
  },
  {
   "cell_type": "markdown",
   "metadata": {
    "slideshow": {
     "slide_type": "subslide"
    }
   },
   "source": [
    "Kan sette og oppdatere verdier i lister"
   ]
  },
  {
   "cell_type": "code",
   "execution_count": null,
   "metadata": {
    "slideshow": {
     "slide_type": "fragment"
    }
   },
   "outputs": [],
   "source": [
    "l = [\"Noen\", \"ord\", \"i\", \"denne\", \"listen\"]\n",
    "print(\"1:\", l)\n",
    "l[0] = \"Mange\"\n",
    "print(\"2:\", l)\n",
    "\n",
    "l.append(\"eksisterer\")\n",
    "print(\"3:\", l)\n",
    "\n",
    "a = l.pop()\n",
    "print(a)\n",
    "print(\"4:\", l)\n",
    "\n",
    "a = l.pop(3)\n",
    "print(a)\n",
    "print(\"5:\", l)\n",
    "\n",
    "l.insert(2, \"eksisterer\")\n",
    "print(\"6:\", l)"
   ]
  },
  {
   "cell_type": "markdown",
   "metadata": {
    "slideshow": {
     "slide_type": "subslide"
    }
   },
   "source": [
    "Sortering:"
   ]
  },
  {
   "cell_type": "code",
   "execution_count": null,
   "metadata": {
    "slideshow": {
     "slide_type": "fragment"
    }
   },
   "outputs": [],
   "source": [
    "l = [\"Noen\", \"ord\", \"i\", \"denne\", \"listen\"]\n",
    "print(\"1:\", l)\n",
    "\n",
    "l.sort()\n",
    "\n",
    "print(\"2:\", l)"
   ]
  },
  {
   "cell_type": "markdown",
   "metadata": {
    "slideshow": {
     "slide_type": "subslide"
    }
   },
   "source": [
    "Lister og strenger, split() og join()\n",
    "* split(*sep*) deler en streng opp i flere deler, hvor *sep* er en separator\n",
    "* *s*.join(*l*) setter sammen en liste *l* med strenger, med separator *s* mellom hvert element"
   ]
  },
  {
   "cell_type": "code",
   "execution_count": null,
   "metadata": {
    "slideshow": {
     "slide_type": "fragment"
    }
   },
   "outputs": [],
   "source": [
    "s = \"Denne strengen har mange ord\"\n",
    "l = s.split(\" \")\n",
    "print(l)\n",
    "\n",
    "n = \"_\".join(l)\n",
    "print(n)"
   ]
  },
  {
   "cell_type": "markdown",
   "metadata": {
    "slideshow": {
     "slide_type": "slide"
    }
   },
   "source": [
    "## 2.9 Oppgaver: lister og tupler"
   ]
  },
  {
   "cell_type": "markdown",
   "metadata": {
    "slideshow": {
     "slide_type": "fragment"
    }
   },
   "source": [
    "* Lag en liste med fem elementer, hvor alle elementer er ulike strenger\n",
    "* Print ut lengden på listen\n",
    "* Bruk slicing til å:\n",
    " * printe listen baklengs\n",
    " * printe hvert andre element, start fra første og andre element\n",
    " * printe hvert andre element, baklengs\n",
    "* Legg til ett element\n",
    " * i starten av listen\n",
    " * midt i listen\n",
    "* Ta bort\n",
    " * det siste elementet i listen\n",
    " * det første elementet i listen\n",
    "* Opprett en tupel med noen elementer\n",
    " * prøv å legge til eller endre ett av elementene"
   ]
  },
  {
   "cell_type": "markdown",
   "metadata": {
    "slideshow": {
     "slide_type": "slide"
    }
   },
   "source": [
    "## 2.10 Dictionaries"
   ]
  },
  {
   "cell_type": "markdown",
   "metadata": {
    "slideshow": {
     "slide_type": "fragment"
    }
   },
   "source": [
    "* Også kalt maps og hashmaps i andre språk\n",
    "* Datastruktur som kobler sammen en nøkkel med en verdi\n",
    "* Nøkler kan være av alle enkle typer\n",
    " * f.eks: int, string, float\n",
    " * Men ikke: lister, tupler, dictionaries eller andre komplekse datatyper\n",
    "* Verdier kan være hva som helst\n",
    " * Inkludert andre dictionaries (nesting)\n",
    "\n",
    "* Nytt i 3.7: tar vare på rekkefølgen\n",
    " * Før 3.7 var ikke dette garantert (måtte bruke OrderedDict)"
   ]
  },
  {
   "cell_type": "code",
   "execution_count": null,
   "metadata": {
    "slideshow": {
     "slide_type": "subslide"
    }
   },
   "outputs": [],
   "source": [
    "person = {\n",
    "    \"fornavn\": \"Ola\",\n",
    "    \"etternavn\": \"Normann\",\n",
    "    \"alder\": 25\n",
    "}\n",
    "print(person[\"fornavn\"])\n",
    "print(person[\"etternavn\"])\n",
    "print(person[\"alder\"])"
   ]
  },
  {
   "cell_type": "code",
   "execution_count": null,
   "metadata": {
    "slideshow": {
     "slide_type": "subslide"
    }
   },
   "outputs": [],
   "source": [
    "tall = {\"a\": 2, \"b\": 3}\n",
    "print(\"1:\", tall)\n",
    "\n",
    "tall[\"c\"] = tall[\"a\"] + tall[\"b\"] \n",
    "print(\"2:\", tall)\n",
    "\n",
    "tall[\"c\"] = 7\n",
    "print(\"3:\", tall)\n",
    "\n",
    "tmp = tall.pop(\"c\")\n",
    "print(\"tmp:\", tmp)\n",
    "print(\"4:\", tall)"
   ]
  },
  {
   "cell_type": "code",
   "execution_count": null,
   "metadata": {
    "slideshow": {
     "slide_type": "subslide"
    }
   },
   "outputs": [],
   "source": [
    "person = {\n",
    "    \"fornavn\": \"Ola\",\n",
    "    \"etternavn\": \"Normann\",\n",
    "    \"alder\": 25\n",
    "}\n",
    "\n",
    "print(\"Høyde (før):\", person.get(\"høyde\", None))\n",
    "person[\"høyde\"] = 1.75\n",
    "print(\"Høyde (etter):\", person.get(\"høyde\", -1))\n",
    "print()\n",
    "\n",
    "print(list(person.keys()))\n",
    "print(list(person.values()))\n",
    "print(list(person.items()))"
   ]
  },
  {
   "cell_type": "markdown",
   "metadata": {
    "slideshow": {
     "slide_type": "slide"
    }
   },
   "source": [
    "## 2.11 Oppgaver: Dictionaries"
   ]
  },
  {
   "cell_type": "markdown",
   "metadata": {
    "slideshow": {
     "slide_type": "fragment"
    }
   },
   "source": [
    "* På linken https://no.wikipedia.org/wiki/Norden finner dere en tabell over land og folketall i norden\n",
    "* Lag en dict hvor nøklene er navn på land, og verdiene er folketall\n",
    " * For å spare tid trenger dere bare å legge inn de fem øverste landene\n",
    "* Bruk dict-en dere lagde til å:\n",
    " * printe folketallet i hvert land\n",
    " * printe summen av folketall\n",
    " * printe gjennomsnittlig folketall (hint: len() fungerer også på dicts)"
   ]
  }
 ],
 "metadata": {
  "celltoolbar": "Slideshow",
  "kernelspec": {
   "display_name": "Python 3 (ipykernel)",
   "language": "python",
   "name": "python3"
  },
  "language_info": {
   "codemirror_mode": {
    "name": "ipython",
    "version": 3
   },
   "file_extension": ".py",
   "mimetype": "text/x-python",
   "name": "python",
   "nbconvert_exporter": "python",
   "pygments_lexer": "ipython3",
   "version": "3.12.1"
  },
  "vscode": {
   "interpreter": {
    "hash": "916dbcbb3f70747c44a77c7bcd40155683ae19c65e1c03b4aa3499c5328201f1"
   }
  }
 },
 "nbformat": 4,
 "nbformat_minor": 4
}
