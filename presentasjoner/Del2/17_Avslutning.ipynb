{
 "cells": [
  {
   "cell_type": "markdown",
   "metadata": {
    "slideshow": {
     "slide_type": "slide"
    }
   },
   "source": [
    "# 17 - Avslutning"
   ]
  },
  {
   "cell_type": "markdown",
   "metadata": {
    "slideshow": {
     "slide_type": "slide"
    }
   },
   "source": [
    "## Kapitler:\n",
    "\n",
    "| __Del 1:__  | | | __Del 2:__  |\n",
    "|:------|-|-|:------|\n",
    "| 1. Kurs intro  | | | 11. Avansert nettverk  |\n",
    "| 2. Typer og variabler  | | | 12. Regulære uttrykk  |\n",
    "| 3. Syntax  | | | 13. Type hints  |\n",
    "| 4. Exceptions  | | | 14. Objektorientert programmering  |\n",
    "| 5. Kontrollflyt  | | | 15. Avanserte funksjoner  |\n",
    "| 6. Funksjoner og Klasser  | | | 16. Parallellisering  |\n",
    "| 7. Scripting og Argumenter  | | | 17. Avslutning  |\n",
    "| 8. Import og moduler  | | |   |\n",
    "| 9. Filhåndtering  | | |   |\n",
    "| 10. Nettverk  | | |   |\n",
    "\n",
    "## Noen siste spørsmål?"
   ]
  },
  {
   "cell_type": "markdown",
   "metadata": {
    "slideshow": {
     "slide_type": "slide"
    }
   },
   "source": [
    "# Takk for oss"
   ]
  }
 ],
 "metadata": {
  "celltoolbar": "Slideshow",
  "kernelspec": {
   "display_name": "Python 3",
   "language": "python",
   "name": "python3"
  },
  "language_info": {
   "codemirror_mode": {
    "name": "ipython",
    "version": 3
   },
   "file_extension": ".py",
   "mimetype": "text/x-python",
   "name": "python",
   "nbconvert_exporter": "python",
   "pygments_lexer": "ipython3",
   "version": "3.8.1"
  }
 },
 "nbformat": 4,
 "nbformat_minor": 4
}
