{
 "cells": [
  {
   "cell_type": "markdown",
   "metadata": {
    "slideshow": {
     "slide_type": "slide"
    }
   },
   "source": [
    "# 13 - Type hints"
   ]
  },
  {
   "cell_type": "markdown",
   "metadata": {
    "slideshow": {
     "slide_type": "slide"
    }
   },
   "source": [
    "## 13.1 Hva er type hints?"
   ]
  },
  {
   "cell_type": "markdown",
   "metadata": {
    "slideshow": {
     "slide_type": "fragment"
    }
   },
   "source": [
    "* Repetisjon: Python har typer, men det er ikke nødvendig å spesifisere typen på en variabel\n",
    " * Gjøres automatisk\n",
    "* Men man _kan_ gjøre det hvis man vil\n",
    "* Nytt i Python 3.5: Type hints\n",
    " * Standardisert i PEP 484\n",
    "* _Kan_ brukes, men påvirker ikke kjøringen av kode\n",
    "* Kun som ett hjelpemiddel for utvikler\n",
    " * Flere IDEer bruker denne informasjon og viser den"
   ]
  },
  {
   "cell_type": "code",
   "execution_count": null,
   "metadata": {
    "slideshow": {
     "slide_type": "fragment"
    }
   },
   "outputs": [],
   "source": [
    "a :int = 5\n",
    "print(a)"
   ]
  },
  {
   "cell_type": "markdown",
   "metadata": {
    "slideshow": {
     "slide_type": "slide"
    }
   },
   "source": [
    "## 13.2 Hvorfor bruke type hints?"
   ]
  },
  {
   "cell_type": "markdown",
   "metadata": {
    "slideshow": {
     "slide_type": "fragment"
    }
   },
   "source": [
    "* Lesbarhet\n",
    "* Finne typefeil\n",
    "* Gjør det enklere for andre å lese og forstå koden\n",
    "* \"Selv-dokumenterende kode\""
   ]
  },
  {
   "cell_type": "markdown",
   "metadata": {
    "slideshow": {
     "slide_type": "slide"
    }
   },
   "source": [
    "## 13.3 Hvordan bruke type hints?"
   ]
  },
  {
   "cell_type": "code",
   "execution_count": null,
   "metadata": {
    "slideshow": {
     "slide_type": "fragment"
    }
   },
   "outputs": [],
   "source": [
    "# Typer på varabler:\n",
    "a :int = 5\n",
    "\n",
    "# Typer på funksjoner:\n",
    "def greeting(name: str) -> str:\n",
    "    return 'Hello ' + name\n",
    "\n",
    "def sum_to_tall(tall1: int, tall2: int = 0) -> int:\n",
    "    return tall1 + tall2\n",
    "\n",
    "print(sum_to_tall(1, 2))\n",
    "print(sum_to_tall(5))"
   ]
  },
  {
   "cell_type": "code",
   "execution_count": null,
   "metadata": {
    "slideshow": {
     "slide_type": "subslide"
    }
   },
   "outputs": [],
   "source": [
    "import typing\n",
    "\n",
    "Vector = typing.List[float]\n",
    "v: Vector = [1,1, 2.3]\n",
    "\n",
    "Tall = typing.TypeVar(\"Tall\", int, float) # <-- lager en ny type\n",
    "# eller: Tall = typing.Union[int, float]  <-- kombinerer to typer\n",
    "def sum_to_tall(tall1: Tall, tall2: Tall) -> Tall:\n",
    "    return tall1 + tall2"
   ]
  },
  {
   "cell_type": "markdown",
   "metadata": {
    "slideshow": {
     "slide_type": "slide"
    }
   },
   "source": [
    "## 13.4 Oppgave: type hints"
   ]
  },
  {
   "cell_type": "markdown",
   "metadata": {
    "slideshow": {
     "slide_type": "fragment"
    }
   },
   "source": [
    "* Se i oppgaver/13.4_type_hints.py\n",
    "* Scriptet inneholder flere funksjoner fra flere kilder, uten type hints\n",
    "* Gå gjennom scriptet, prøv å forstå hva funksjonene gjør, og legg til type hints"
   ]
  }
 ],
 "metadata": {
  "celltoolbar": "Slideshow",
  "kernelspec": {
   "display_name": "Python 3",
   "language": "python",
   "name": "python3"
  },
  "language_info": {
   "codemirror_mode": {
    "name": "ipython",
    "version": 3
   },
   "file_extension": ".py",
   "mimetype": "text/x-python",
   "name": "python",
   "nbconvert_exporter": "python",
   "pygments_lexer": "ipython3",
   "version": "3.11.1"
  },
  "vscode": {
   "interpreter": {
    "hash": "ead1b95f633dc9c51826328e1846203f51a198c6fb5f2884a80417ba131d4e82"
   }
  }
 },
 "nbformat": 4,
 "nbformat_minor": 4
}
