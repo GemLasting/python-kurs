{
 "cells": [
  {
   "cell_type": "markdown",
   "metadata": {
    "slideshow": {
     "slide_type": "slide"
    }
   },
   "source": [
    "# Python 2022 Del 2"
   ]
  },
  {
   "cell_type": "markdown",
   "metadata": {
    "slideshow": {
     "slide_type": "slide"
    }
   },
   "source": [
    "## Oversikt del 2\n",
    "\n",
    "* Gjennomgang av wikipedia oppgave\n",
    "\n",
    "Kapitler:\n",
    "<br>11. Avansert nettverk\n",
    "<br>12. Regulære uttrykk\n",
    "<br>13. Type hints\n",
    "<br>14. Objektorientert programmering\n",
    "<br>15. Avanserte funksjoner\n",
    "<br>16. Parallellisering\n",
    "<br>17. Avslutning"
   ]
  },
  {
   "cell_type": "markdown",
   "metadata": {
    "slideshow": {
     "slide_type": "slide"
    }
   },
   "source": [
    "### Ekstra øvelse / Hjemmelekse: Wikipedia-søk\n",
    "Wikipedia har et API for å kjøre spørringer mot siden. Øvingen går ut på å lage et script som bruker requests for å gjøre søk.\n",
    " - Referanse: https://en.wikipedia.org/w/api.php\n",
    " - Eksempel: https://en.wikipedia.org/w/api.php?action=opensearch&search=søkestreng\n",
    " \n",
    " - Etter å ha listet ut sidene som treffer søkestrengen bruk parse-apiet for å finne de sidene som finnes på norsk. (langlinks)\n",
    "   https://en.wikipedia.org/w/api.php?action=parse&page=Cube&prop=langlinks\n",
    "\n",
    " - Bruk argparse for å ta inn søkestrengen, f.eks med  --query\n",
    " - Gjør det mulig å velge språk med –lang\n",
    " - Husk at requests.get lar deg spesifisere en dict med parametre.\n",
    "   requests.get(\"https://en.wikipedia.org/w/api.php\",params={\"action\":\"opensearch\",\"search\":my_search})\n",
    "\n",
    "Tips: \n",
    " - Wikipedia formaterer api-resultat litt forskjellig. Legg til format=json for maskinlesbar og format=jsonfm for pretty-print."
   ]
  }
 ],
 "metadata": {
  "celltoolbar": "Slideshow",
  "kernelspec": {
   "display_name": "Python 3",
   "language": "python",
   "name": "python3"
  },
  "language_info": {
   "codemirror_mode": {
    "name": "ipython",
    "version": 3
   },
   "file_extension": ".py",
   "mimetype": "text/x-python",
   "name": "python",
   "nbconvert_exporter": "python",
   "pygments_lexer": "ipython3",
   "version": "3.9.2"
  }
 },
 "nbformat": 4,
 "nbformat_minor": 4
}
