{
 "cells": [
  {
   "cell_type": "markdown",
   "id": "872cc160-305b-45f5-91c8-df1d5e38dee5",
   "metadata": {},
   "source": [
    "# Git\n",
    "\n",
    "Det finner mange ressurser for introduksjon til git på nettet. Et eksempel er (https://docs.github.com/en/get-started/using-git/about-git)[github sin].\n",
    "Enkelt sagt er git er et verktøy for versjonskontroll av kildekode. Det gir deg en historie over dine endringer, og gir deg muligheten til å kunne gjenopprette tidligere versjoner enkelt. Det gjør det enkelt for flere som jobber sammen å koordinere endringer på kildekoden.\n",
    "\n",
    "Utviklere må kunne bruke git. Ofte holder det med basics, så det blir fokuset for disse oppgavene"
   ]
  },
  {
   "cell_type": "markdown",
   "id": "a9447e0b-3770-40c2-a106-7e481e68bf4b",
   "metadata": {},
   "source": [
    "## Oppgaver"
   ]
  },
  {
   "cell_type": "markdown",
   "id": "acfa9353-9492-491a-84f0-937c2b273012",
   "metadata": {},
   "source": [
    "### 1\n",
    "\n",
    "Gå inn på github.com og lag deg en konto. Lag så et repository som du kaller python-kurs og klon det til lokal maskin."
   ]
  },
  {
   "cell_type": "markdown",
   "id": "e9de3e45-0d4e-4194-8a76-a4da5ff0cba2",
   "metadata": {},
   "source": [
    "### 2\n",
    "\n",
    "Lag en main.py fil med litt python-kode og legg den til repositoriet ved å kjøre kommandoene\n",
    "1. ```git add main.py```\n",
    "2. ```git commit -m \"Legger til main.py\"```\n",
    "\n",
    "Kjør ```git log``` for å se commiten din. Kjør så git push for å oppdatere repository på github.com"
   ]
  },
  {
   "cell_type": "markdown",
   "id": "fa81e9d2-e7c4-44f9-ba64-d64b8e99445f",
   "metadata": {},
   "source": [
    "### 3\n",
    "\n",
    "Gjør en endring på main.py og legg den til repositoriet. Bruk en kombinasjon av følgende kommandoer\n",
    "- ```git add main.py --patch```\n",
    "- ```git status```\n",
    "- ```git diff```\n",
    "- ```pycodestyle main.py``` (Hvis du vil fikse koden i oppgave 2)\n",
    "- ```git commit -m \"Endret main.py\"```"
   ]
  },
  {
   "cell_type": "code",
   "execution_count": null,
   "id": "90b9b3ab-0ce7-4252-a6ec-916f60732dc7",
   "metadata": {},
   "outputs": [],
   "source": []
  }
 ],
 "metadata": {
  "kernelspec": {
   "display_name": "Python 3 (ipykernel)",
   "language": "python",
   "name": "python3"
  },
  "language_info": {
   "codemirror_mode": {
    "name": "ipython",
    "version": 3
   },
   "file_extension": ".py",
   "mimetype": "text/x-python",
   "name": "python",
   "nbconvert_exporter": "python",
   "pygments_lexer": "ipython3",
   "version": "3.10.12"
  }
 },
 "nbformat": 4,
 "nbformat_minor": 5
}
