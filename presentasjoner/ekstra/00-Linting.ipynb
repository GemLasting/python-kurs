{
 "cells": [
  {
   "cell_type": "markdown",
   "id": "66f560af-5734-4448-98b9-b3510e4741e8",
   "metadata": {},
   "source": [
    "# Linting"
   ]
  },
  {
   "cell_type": "markdown",
   "id": "da870b93-f6de-4072-b7aa-1c3da8be2ee2",
   "metadata": {},
   "source": [
    "Linting er å sjekke kode for feil og mangler ved kun å se på kildekoden. Ofte kaller vi dette statisk sjekking av kode. Typisk vil man sjekke at koden er skrevet på en god måte og luke ut åpenbare feil. Å luke ut feil tidlig er veldig nyttig fordi de ofte fører til følgefeil som er vanskelig å finne ut av. I tillegg til å luke ut feil vil en sjekk sørge for at koden er lett å få oversikt over og dermed enklere å forstå og vedlikeholde over tid. Tenk alltid at det kommer noen etter deg som skal se på og videreutvikle din kode.\n",
    "\n",
    "For å kunne lage kode som er lette å vedlikeholde gjelder det å ha konvensjoner på hvordan koden skal se ut. Python har definert en kode-stil for kode i standardbiblioteket sitt i et dokument kalt (https://peps.python.org/pep-0008/)[PEP8]. Her beskrives det gode konvensjoner for hvordan man bør skrive python-kode. Et eksempel er at indentering skal være 4 spaces. Dette sørger for at koden ser lik ut i alle editorer.\n",
    "\n",
    "En standard som PEP8 er et godt utgangspunkt for egen kode, men til syvende å siste er det de som skriver koden og jobber sammen som bestemmer hvilke konvensjoner som skal brukes. For eksempel kan det være at maksimal linjestørrelse ikke er noe dere vil ta høyde for, da kan det sløyfes. Sløyfing av konvensjoner gjør det ofte vanskeligere for nye personer å sette seg inn i koden, så det bør ikke gjøres uten god grunn."
   ]
  },
  {
   "cell_type": "markdown",
   "id": "1e887104-5c94-432d-8ab7-caf7a4feafb8",
   "metadata": {},
   "source": [
    "## Pycodestyle"
   ]
  },
  {
   "cell_type": "markdown",
   "id": "e8d296d2-c79c-403d-ae2c-f6e9162ca5bc",
   "metadata": {},
   "source": [
    "pycodestyle er et skript som sjekker om python kode følger reglene i PEP8. Det kan enkelt installeres gjennom pip"
   ]
  },
  {
   "cell_type": "markdown",
   "id": "2eb5ed8c-7873-4872-937f-dae728d2ce89",
   "metadata": {},
   "source": [
    "```\n",
    "pip3 install pycodestyle\n",
    "```"
   ]
  },
  {
   "cell_type": "markdown",
   "id": "15b6bc38-b50f-42f8-a48e-5f9373f8625d",
   "metadata": {},
   "source": [
    "Under mappen _filer_ ligger det et skript kalt _fixme.py_. I terminalen kjør følgende\n",
    "```\n",
    "pycodestyle filer/fixme.py\n",
    "```\n",
    "Du bør få ca samme output som ved å kjøre koden under."
   ]
  },
  {
   "cell_type": "code",
   "execution_count": 24,
   "id": "dd67ed2d-f5d9-44b0-98a5-fd157336fdda",
   "metadata": {},
   "outputs": [
    {
     "name": "stdout",
     "output_type": "stream",
     "text": [
      "filer/fixme.py:2:12: E401 multiple imports on one line\n",
      "filer/fixme.py:4:1: E302 expected 2 blank lines, found 1\n",
      "filer/fixme.py:5:17: E211 whitespace before '('\n",
      "filer/fixme.py:6:21: E225 missing whitespace around operator\n",
      "filer/fixme.py:7:18: E221 multiple spaces before operator\n",
      "filer/fixme.py:9:1: W293 blank line contains whitespace\n",
      "filer/fixme.py:10:5: E303 too many blank lines (2)\n",
      "filer/fixme.py:11:80: E501 line too long (81 > 79 characters)\n",
      "filer/fixme.py:12:14: E211 whitespace before '('\n",
      "filer/fixme.py:14:1: E302 expected 2 blank lines, found 1\n",
      "filer/fixme.py:18:17: E211 whitespace before '('\n"
     ]
    }
   ],
   "source": [
    "import pycodestyle\n",
    "style_guide = pycodestyle.StyleGuide(parse_argv=False)\n",
    "report = style_guide.check_files(paths=[\"filer/fixme.py\"])\n"
   ]
  },
  {
   "cell_type": "markdown",
   "id": "40a15d2c-a7e9-4fec-bc60-c7a294f75628",
   "metadata": {},
   "source": [
    "Fra dokumentasjonen av pycodestyle finner man følgende beskrivelse:\n",
    "Groups of errors and warnings:\n",
    "- E errors\n",
    "- W warnings\n",
    "- 100 indentation\n",
    "- 200 whitespace\n",
    "- 300 blank lines\n",
    "- 400 imports\n",
    "- 500 line length\n",
    "- 600 deprecation\n",
    "- 700 statements\n",
    "- 900 syntax error"
   ]
  },
  {
   "cell_type": "markdown",
   "id": "3327aa64-afd3-4fb5-b6e0-91b00ce7d909",
   "metadata": {},
   "source": [
    "Disse meldingen bør håndteres ved å forandre koden i henhold til meldingen. Men man kan også velge å ignorere en del av meldingene hvis man har en god grunn til det. Det kan for eksempel være at teamet du jobber på er blitt enige om at linjer lenger enn 79 tegn er greit."
   ]
  },
  {
   "cell_type": "markdown",
   "id": "e9d11bba-8535-47f4-a05d-3293b535dd72",
   "metadata": {},
   "source": [
    "## Flake8\n",
    "\n",
    "Flake8 er en linter som kan installeres enkelt gjennom pip.\n",
    "```\n",
    "pip3 install flake8\n",
    "```\n",
    "\n",
    "I tillegg til å sjekke kodestil som pycodestyle vil den sjekke koden grundigere for korrekthet. Hvis du kjører så vil du legge merke til at den ser at greetin-variabelen ikke er blitt brukt. Dette tyder på programmeringsfeil.\n",
    "```\n",
    "flake8 fixme.py\n",
    "```"
   ]
  },
  {
   "cell_type": "markdown",
   "id": "64d5324f-16e1-4485-85e2-7c870671ec51",
   "metadata": {},
   "source": [
    "## Pylint, Mypy, Pyflakes, Ruff"
   ]
  },
  {
   "cell_type": "markdown",
   "id": "abb4682e-c563-484b-bd65-96bea56ba396",
   "metadata": {},
   "source": [
    "Det finnes mange forskjellige lintere der ute. Det viktige er ikke nødvendigvis hvilken man bruker, men at man bruker en linter. Det å ha en linter, selv en \"dårlig\" en er mye bedre enn å ikke ha en i det hele tatt.\n",
    "\n",
    "Det er vanlig å bruker lintere i git-hooks og CICD pipelines for å sørge for at kodebase i et git-repository holder en god standard og ikke forfaller. Det skal ikke mye slapphet til før en kodebase blir vanskelig å jobbe med."
   ]
  },
  {
   "cell_type": "markdown",
   "id": "92a77c83-a88f-4739-9520-20038cd0f831",
   "metadata": {},
   "source": [
    "# Oppgaver"
   ]
  },
  {
   "cell_type": "markdown",
   "id": "3479a537-73fe-4ab8-953e-0bb118acce0d",
   "metadata": {},
   "source": [
    "## 1\n",
    "Forandre fixme.py slik at pycodestyle og flake8 ikke gir deg noen warning eller errors."
   ]
  },
  {
   "cell_type": "markdown",
   "id": "d5be54c5-4140-4247-9c19-60bbff5549d3",
   "metadata": {
    "jp-MarkdownHeadingCollapsed": true
   },
   "source": [
    "## 2\n",
    "Installer en linter, for eksempel flake8, og kjør den på koden du har skrevet i dette kurset og tidligere. De fleste, om ikke alle, tilbakemeldingene du får bør du gjør noe med. Er det noen du ikke vil gjøre noe med, hvorfor? Det er viktig at du har en grunn til å ignorere en konvensjon eller regel"
   ]
  },
  {
   "cell_type": "markdown",
   "id": "948f3fd5-a6c0-4c11-9741-eec0c3af99d2",
   "metadata": {},
   "source": [
    "## 3\n",
    "Finn ut hvordan du skrur av eller fjerner sjekker av regler i flake8 og pycodestyle. Skru av sjekk for lenge på linjer og sjekk et python-skript med minst en linje som e rlenger enn 79 karakterer."
   ]
  },
  {
   "cell_type": "markdown",
   "id": "badd7e3a-ebd5-4111-b465-0bdc699483a1",
   "metadata": {},
   "source": [
    "## 4\n",
    "Finn ut hvordan du legger inn linting som en del av git pre-commit hook slik at du ikke får love til å commite hvis koden din ikke \"er perfekt\" (Ingen klaging fra linteren).\n",
    "Hint: Se under .git/hooks/ og filen pre-commit.sample. Denne kan du kopiere til .git/hooks/pre-commit og endre til å kjøre en linter"
   ]
  },
  {
   "cell_type": "markdown",
   "id": "6c9eeba4-a2fb-47dd-b7f1-ca3012721758",
   "metadata": {},
   "source": [
    "## 5\n",
    "Du har helt sikkert programmert i et annet programmeringsspråk tidligere. Sjekk om det finnes lintere til et av språkene og prøv den. Er den nyttig?"
   ]
  },
  {
   "cell_type": "code",
   "execution_count": null,
   "id": "68654289-bcbe-419e-b2ba-d0c7c0242436",
   "metadata": {},
   "outputs": [],
   "source": []
  }
 ],
 "metadata": {
  "kernelspec": {
   "display_name": "Python 3 (ipykernel)",
   "language": "python",
   "name": "python3"
  },
  "language_info": {
   "codemirror_mode": {
    "name": "ipython",
    "version": 3
   },
   "file_extension": ".py",
   "mimetype": "text/x-python",
   "name": "python",
   "nbconvert_exporter": "python",
   "pygments_lexer": "ipython3",
   "version": "3.10.12"
  }
 },
 "nbformat": 4,
 "nbformat_minor": 5
}
