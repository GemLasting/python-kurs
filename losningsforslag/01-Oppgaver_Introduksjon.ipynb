{
 "cells": [
  {
   "attachments": {},
   "cell_type": "markdown",
   "metadata": {
    "slideshow": {
     "slide_type": "slide"
    }
   },
   "source": [
    "# Python 2023"
   ]
  },
  {
   "cell_type": "markdown",
   "metadata": {
    "slideshow": {
     "slide_type": "slide"
    }
   },
   "source": [
    "## 1.3 Oppgaver"
   ]
  },
  {
   "attachments": {},
   "cell_type": "markdown",
   "metadata": {
    "slideshow": {
     "slide_type": "fragment"
    }
   },
   "source": [
    "* Hvis dere ikke har gjort det allerede:\n",
    " * Last ned og installer Python 3.11 fra python.org\n",
    "* Åpne cmd og skriv \"python\"\n",
    "* Verifiser at den sier \"Python 3.11.x ...\"\n",
    "* Skriv:\n",
    "```python\n",
    "print('Hello world')\n",
    "```\n",
    "* For å avslutte Python, skriv *exit()*\n",
    "* Lag en fil *mitt_script.py* hvor du skriver inn koden over (bruk notepad.exe, Notepad++ eller en annen text-editor)\n",
    "* Kjør scriptet i cmd med:\n",
    "```\n",
    "python mitt_script.py\n",
    "```\n",
    "eller\n",
    "```\n",
    "py -3 mitt_script.py\n",
    "```"
   ]
  },
  {
   "cell_type": "markdown",
   "metadata": {
    "slideshow": {
     "slide_type": "slide"
    }
   },
   "source": [
    "## Oppgaver (2)"
   ]
  },
  {
   "cell_type": "markdown",
   "metadata": {
    "slideshow": {
     "slide_type": "fragment"
    }
   },
   "source": [
    "* (I cmd) naviger til mappen dere fikk av oss\n",
    "* Kjøre kommandoene:\n",
    "```\n",
    "pip install -r requirements.txt\n",
    "```\n",
    "```\n",
    "jupyter lab\n",
    "```"
   ]
  }
 ],
 "metadata": {
  "celltoolbar": "Slideshow",
  "kernelspec": {
   "display_name": "Python 3",
   "language": "python",
   "name": "python3"
  },
  "language_info": {
   "codemirror_mode": {
    "name": "ipython",
    "version": 3
   },
   "file_extension": ".py",
   "mimetype": "text/x-python",
   "name": "python",
   "nbconvert_exporter": "python",
   "pygments_lexer": "ipython3",
   "version": "3.9.2"
  },
  "livereveal": {
   "height": 1200,
   "width": 1600
  }
 },
 "nbformat": 4,
 "nbformat_minor": 4
}
