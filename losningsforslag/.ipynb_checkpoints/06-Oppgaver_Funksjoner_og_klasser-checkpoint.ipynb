{
 "cells": [
  {
   "cell_type": "markdown",
   "metadata": {},
   "source": [
    "## 6.1 Oppgaver: Opprette funksjoner"
   ]
  },
  {
   "cell_type": "markdown",
   "metadata": {},
   "source": [
    "Lag og bruk noen funksjoner.\n",
    "- Lag en funksjon som tar inn et tall og returnerer summen av alle heltall fra 0 til og med det tallet som sendes inn.\n",
    "    - eks. summer(5): 1 + 2 + 3 + 4 + 5 = 15. Funksjonen skal da returnere tallet 15.\n",
    "    \n",
    "    \n",
    "- Lag en funksjon med navnet _har\\_nummer_ som tar inn en streng.\n",
    "    - Hvis strengen inneholder et eller flere tall, returner True, hvis ikke returner False"
   ]
  },
  {
   "cell_type": "markdown",
   "metadata": {},
   "source": [
    "## 6.4 Oppgaver: Lag egen klasse og objekter"
   ]
  },
  {
   "cell_type": "markdown",
   "metadata": {},
   "source": [
    "- Lag en klasse med navn _Person_ som har 3 attributter: `navn`, `alder` og `hobbyer`. Det er opp til deg å bestemme hva slags type som passer best for disse attributtene.\n",
    "    - Klassen skal ha en metode (funksjon) som skriver ut navnet og alderen på personen.\n",
    "    - Lag også en metode for å skrive ut alle hobbyer sortert i alfabetisk rekkefølge"
   ]
  }
 ],
 "metadata": {
  "kernelspec": {
   "display_name": "Python 3",
   "language": "python",
   "name": "python3"
  },
  "language_info": {
   "codemirror_mode": {
    "name": "ipython",
    "version": 3
   },
   "file_extension": ".py",
   "mimetype": "text/x-python",
   "name": "python",
   "nbconvert_exporter": "python",
   "pygments_lexer": "ipython3",
   "version": "3.12.1"
  }
 },
 "nbformat": 4,
 "nbformat_minor": 2
}
