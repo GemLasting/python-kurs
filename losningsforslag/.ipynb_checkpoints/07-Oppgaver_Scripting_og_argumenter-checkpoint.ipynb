{
 "cells": [
  {
   "cell_type": "code",
   "execution_count": null,
   "metadata": {},
   "outputs": [],
   "source": [
    "## 7.2 Oppgaver: Lag et enkelt script"
   ]
  },
  {
   "cell_type": "markdown",
   "metadata": {},
   "source": [
    "* Lag ett enkelt script med en main funksjon, og en if (som vist på forrige slide)\n",
    "* main funksjonen skal innholde:\n",
    " * en eviggående while-løkke som:\n",
    "  * Spør brukeren (med input()) om hva han/hun ønsker å gjøre\n",
    "  * Dersom brukeren skriver \"avslutt\", skal du hoppe ut av løkken (med break), og avslutte scriptet\n",
    "  * Dersom brukeren skriver \"sum\", skal scriptet spørre om to tall, som summeres og printes\n",
    "  * Dersom brukeren skriver noe annet, skal scriptet printe en feilmelding, og spørre på nytt\n",
    "  \n",
    "  \n",
    "* Hint: Dersom noe går galt og du ikke kommer ut av scriptet, kan du trykke ctrl-C for å avslutte det"
   ]
  }
 ],
 "metadata": {
  "language_info": {
   "name": "python"
  }
 },
 "nbformat": 4,
 "nbformat_minor": 2
}
